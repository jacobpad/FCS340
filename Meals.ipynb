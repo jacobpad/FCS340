{
  "nbformat": 4,
  "nbformat_minor": 0,
  "metadata": {
    "colab": {
      "name": "Meals.ipynb",
      "provenance": [],
      "collapsed_sections": [],
      "authorship_tag": "ABX9TyMq7FzEwBMwlbbfgxiVWv3H",
      "include_colab_link": true
    },
    "kernelspec": {
      "name": "python3",
      "display_name": "Python 3"
    }
  },
  "cells": [
    {
      "cell_type": "markdown",
      "metadata": {
        "id": "view-in-github",
        "colab_type": "text"
      },
      "source": [
        "<a href=\"https://colab.research.google.com/github/jacobpad/FCS340/blob/main/Meals.ipynb\" target=\"_parent\"><img src=\"https://colab.research.google.com/assets/colab-badge.svg\" alt=\"Open In Colab\"/></a>"
      ]
    },
    {
      "cell_type": "markdown",
      "metadata": {
        "id": "PrIOcdH0-HSt"
      },
      "source": [
        "[Video](https://youtu.be/t6WSY9D_ORQ?t=41) on how to use a Google Sheet in Python"
      ]
    },
    {
      "cell_type": "markdown",
      "metadata": {
        "id": "B6kgf8balPzu"
      },
      "source": [
        "## The Following Cell Is Just a Snapshot of the Current Google Sheet"
      ]
    },
    {
      "cell_type": "code",
      "metadata": {
        "id": "-iveOaDb-JyW",
        "colab": {
          "base_uri": "https://localhost:8080/",
          "height": 948
        },
        "outputId": "f402d9b1-feb8-46e3-c8b4-ca7fd2973e15"
      },
      "source": [
        "import pandas as pd\n",
        "\n",
        "# https://docs.google.com/spreadsheets/d/1kHSxCf7WpvnTzRprvAcYrpsrK2FkuX8mrfNKCYjHDBE/edit?usp=sharing\n",
        "\n",
        "sheet_id = '1kHSxCf7WpvnTzRprvAcYrpsrK2FkuX8mrfNKCYjHDBE'\n",
        "df = pd.read_csv(f'https://docs.google.com/spreadsheets/d/{sheet_id}/export?format=csv')\n",
        "df"
      ],
      "execution_count": null,
      "outputs": [
        {
          "output_type": "execute_result",
          "data": {
            "text/html": [
              "<div>\n",
              "<style scoped>\n",
              "    .dataframe tbody tr th:only-of-type {\n",
              "        vertical-align: middle;\n",
              "    }\n",
              "\n",
              "    .dataframe tbody tr th {\n",
              "        vertical-align: top;\n",
              "    }\n",
              "\n",
              "    .dataframe thead th {\n",
              "        text-align: right;\n",
              "    }\n",
              "</style>\n",
              "<table border=\"1\" class=\"dataframe\">\n",
              "  <thead>\n",
              "    <tr style=\"text-align: right;\">\n",
              "      <th></th>\n",
              "      <th>Breakfast</th>\n",
              "      <th>Lunch</th>\n",
              "      <th>Dinner</th>\n",
              "    </tr>\n",
              "  </thead>\n",
              "  <tbody>\n",
              "    <tr>\n",
              "      <th>0</th>\n",
              "      <td>Chia pudding &amp; berries</td>\n",
              "      <td>Bumps on a log</td>\n",
              "      <td>Brown sugar pineapple porkchops</td>\n",
              "    </tr>\n",
              "    <tr>\n",
              "      <th>1</th>\n",
              "      <td>Egg sandwich</td>\n",
              "      <td>Cobb Salad w/ boiled egg &amp; avacado</td>\n",
              "      <td>Crockpot Roast</td>\n",
              "    </tr>\n",
              "    <tr>\n",
              "      <th>2</th>\n",
              "      <td>French toast &amp; bacon</td>\n",
              "      <td>Muffin Tin Potatoes Gratin</td>\n",
              "      <td>Curry</td>\n",
              "    </tr>\n",
              "    <tr>\n",
              "      <th>3</th>\n",
              "      <td>Fritata</td>\n",
              "      <td>Nachos</td>\n",
              "      <td>Easy Butter-Poached Lobster</td>\n",
              "    </tr>\n",
              "    <tr>\n",
              "      <th>4</th>\n",
              "      <td>Hash browns, bacon &amp; eggs</td>\n",
              "      <td>Protein balls</td>\n",
              "      <td>Easy Indian stew</td>\n",
              "    </tr>\n",
              "    <tr>\n",
              "      <th>5</th>\n",
              "      <td>Muffins</td>\n",
              "      <td>Sandwitch</td>\n",
              "      <td>Enchiladas</td>\n",
              "    </tr>\n",
              "    <tr>\n",
              "      <th>6</th>\n",
              "      <td>Oatmeal / Ferina</td>\n",
              "      <td>Sushi</td>\n",
              "      <td>Fajitas</td>\n",
              "    </tr>\n",
              "    <tr>\n",
              "      <th>7</th>\n",
              "      <td>Pancakes</td>\n",
              "      <td>Sweet potato burritos</td>\n",
              "      <td>Garlic-lemon Scallops</td>\n",
              "    </tr>\n",
              "    <tr>\n",
              "      <th>8</th>\n",
              "      <td>Bacon Pancake Bread</td>\n",
              "      <td>NaN</td>\n",
              "      <td>Hamburgers</td>\n",
              "    </tr>\n",
              "    <tr>\n",
              "      <th>9</th>\n",
              "      <td>Healthy Peanut Butter Banana Muffins</td>\n",
              "      <td>NaN</td>\n",
              "      <td>Grain bowl</td>\n",
              "    </tr>\n",
              "    <tr>\n",
              "      <th>10</th>\n",
              "      <td>Sausage egg muffins</td>\n",
              "      <td>NaN</td>\n",
              "      <td>GF Beefy Mac n’ Cheese</td>\n",
              "    </tr>\n",
              "    <tr>\n",
              "      <th>11</th>\n",
              "      <td>Smoothie</td>\n",
              "      <td>NaN</td>\n",
              "      <td>Ghosts (meat loaf bites)</td>\n",
              "    </tr>\n",
              "    <tr>\n",
              "      <th>12</th>\n",
              "      <td>Waffles</td>\n",
              "      <td>NaN</td>\n",
              "      <td>Gluten-Free Beef Wellington with Bacon Jam</td>\n",
              "    </tr>\n",
              "    <tr>\n",
              "      <th>13</th>\n",
              "      <td>NaN</td>\n",
              "      <td>NaN</td>\n",
              "      <td>One-pot cheeseburger pasta</td>\n",
              "    </tr>\n",
              "    <tr>\n",
              "      <th>14</th>\n",
              "      <td>NaN</td>\n",
              "      <td>NaN</td>\n",
              "      <td>One-Pot Chicken and Rice</td>\n",
              "    </tr>\n",
              "    <tr>\n",
              "      <th>15</th>\n",
              "      <td>NaN</td>\n",
              "      <td>NaN</td>\n",
              "      <td>Perfect NY Strip from Frozen, Fogo Cheese Ball...</td>\n",
              "    </tr>\n",
              "    <tr>\n",
              "      <th>16</th>\n",
              "      <td>NaN</td>\n",
              "      <td>NaN</td>\n",
              "      <td>Pizza</td>\n",
              "    </tr>\n",
              "    <tr>\n",
              "      <th>17</th>\n",
              "      <td>NaN</td>\n",
              "      <td>NaN</td>\n",
              "      <td>Salmon</td>\n",
              "    </tr>\n",
              "    <tr>\n",
              "      <th>18</th>\n",
              "      <td>NaN</td>\n",
              "      <td>NaN</td>\n",
              "      <td>Scallops &amp; Salad</td>\n",
              "    </tr>\n",
              "    <tr>\n",
              "      <th>19</th>\n",
              "      <td>NaN</td>\n",
              "      <td>NaN</td>\n",
              "      <td>Sheet-Pan Chicken with Potatoes, Scallions and...</td>\n",
              "    </tr>\n",
              "    <tr>\n",
              "      <th>20</th>\n",
              "      <td>NaN</td>\n",
              "      <td>NaN</td>\n",
              "      <td>Shrimp scampi</td>\n",
              "    </tr>\n",
              "    <tr>\n",
              "      <th>21</th>\n",
              "      <td>NaN</td>\n",
              "      <td>NaN</td>\n",
              "      <td>Shrimp tacos</td>\n",
              "    </tr>\n",
              "    <tr>\n",
              "      <th>22</th>\n",
              "      <td>NaN</td>\n",
              "      <td>NaN</td>\n",
              "      <td>Slow cooker Beef Curry</td>\n",
              "    </tr>\n",
              "    <tr>\n",
              "      <th>23</th>\n",
              "      <td>NaN</td>\n",
              "      <td>NaN</td>\n",
              "      <td>Stuffed... (pepper/eggplant/squash/ect.)</td>\n",
              "    </tr>\n",
              "    <tr>\n",
              "      <th>24</th>\n",
              "      <td>NaN</td>\n",
              "      <td>NaN</td>\n",
              "      <td>Summer-vegetable casserole</td>\n",
              "    </tr>\n",
              "    <tr>\n",
              "      <th>25</th>\n",
              "      <td>NaN</td>\n",
              "      <td>NaN</td>\n",
              "      <td>Taco Salad</td>\n",
              "    </tr>\n",
              "    <tr>\n",
              "      <th>26</th>\n",
              "      <td>NaN</td>\n",
              "      <td>NaN</td>\n",
              "      <td>Taco Soup</td>\n",
              "    </tr>\n",
              "    <tr>\n",
              "      <th>27</th>\n",
              "      <td>NaN</td>\n",
              "      <td>NaN</td>\n",
              "      <td>Tacos</td>\n",
              "    </tr>\n",
              "    <tr>\n",
              "      <th>28</th>\n",
              "      <td>NaN</td>\n",
              "      <td>NaN</td>\n",
              "      <td>Vegan Lasagna</td>\n",
              "    </tr>\n",
              "    <tr>\n",
              "      <th>29</th>\n",
              "      <td>NaN</td>\n",
              "      <td>NaN</td>\n",
              "      <td>Veggie Quesadillas</td>\n",
              "    </tr>\n",
              "  </tbody>\n",
              "</table>\n",
              "</div>"
            ],
            "text/plain": [
              "                               Breakfast  ...                                             Dinner\n",
              "0                 Chia pudding & berries  ...                    Brown sugar pineapple porkchops\n",
              "1                           Egg sandwich  ...                                     Crockpot Roast\n",
              "2                   French toast & bacon  ...                                              Curry\n",
              "3                                Fritata  ...                        Easy Butter-Poached Lobster\n",
              "4              Hash browns, bacon & eggs  ...                                   Easy Indian stew\n",
              "5                                Muffins  ...                                        Enchiladas \n",
              "6                       Oatmeal / Ferina  ...                                            Fajitas\n",
              "7                               Pancakes  ...                              Garlic-lemon Scallops\n",
              "8                    Bacon Pancake Bread  ...                                         Hamburgers\n",
              "9   Healthy Peanut Butter Banana Muffins  ...                                         Grain bowl\n",
              "10                   Sausage egg muffins  ...                             GF Beefy Mac n’ Cheese\n",
              "11                              Smoothie  ...                           Ghosts (meat loaf bites)\n",
              "12                              Waffles   ...         Gluten-Free Beef Wellington with Bacon Jam\n",
              "13                                   NaN  ...                         One-pot cheeseburger pasta\n",
              "14                                   NaN  ...                           One-Pot Chicken and Rice\n",
              "15                                   NaN  ...  Perfect NY Strip from Frozen, Fogo Cheese Ball...\n",
              "16                                   NaN  ...                                              Pizza\n",
              "17                                   NaN  ...                                             Salmon\n",
              "18                                   NaN  ...                                   Scallops & Salad\n",
              "19                                   NaN  ...  Sheet-Pan Chicken with Potatoes, Scallions and...\n",
              "20                                   NaN  ...                                      Shrimp scampi\n",
              "21                                   NaN  ...                                       Shrimp tacos\n",
              "22                                   NaN  ...                             Slow cooker Beef Curry\n",
              "23                                   NaN  ...           Stuffed... (pepper/eggplant/squash/ect.)\n",
              "24                                   NaN  ...                         Summer-vegetable casserole\n",
              "25                                   NaN  ...                                         Taco Salad\n",
              "26                                   NaN  ...                                          Taco Soup\n",
              "27                                   NaN  ...                                              Tacos\n",
              "28                                   NaN  ...                                      Vegan Lasagna\n",
              "29                                   NaN  ...                                 Veggie Quesadillas\n",
              "\n",
              "[30 rows x 3 columns]"
            ]
          },
          "metadata": {
            "tags": []
          },
          "execution_count": 9
        }
      ]
    },
    {
      "cell_type": "code",
      "metadata": {
        "id": "MliNZz23Vr74",
        "colab": {
          "base_uri": "https://localhost:8080/",
          "height": 258
        },
        "outputId": "9953152d-de39-4e3e-a28a-682afe3c07fa"
      },
      "source": [
        "import pandas as pd\n",
        "import random\n",
        "\n",
        "# https://docs.google.com/spreadsheets/d/1kHSxCf7WpvnTzRprvAcYrpsrK2FkuX8mrfNKCYjHDBE/edit?usp=sharing\n",
        "\n",
        "sheet_id = '1kHSxCf7WpvnTzRprvAcYrpsrK2FkuX8mrfNKCYjHDBE'\n",
        "df = pd.read_csv(f'https://docs.google.com/spreadsheets/d/{sheet_id}/export?format=csv')\n",
        "\n",
        "def make_list(col):\n",
        "    lst = []\n",
        "    for i in col:\n",
        "        i = str(i).upper()\n",
        "        if i != 'NAN':\n",
        "            lst.append(i.title())#.strip()\n",
        "    return lst\n",
        "\n",
        "def shuff_it(col):\n",
        "    '''Shuffle Meals & Return 7 Days Worth'''\n",
        "    random.shuffle(col)\n",
        "    return col[:7]\n",
        "\n",
        "b = (make_list(df['Breakfast']))\n",
        "l = (make_list(df['Lunch']))\n",
        "d = (make_list(df['Dinner']))\n",
        "\n",
        "\n",
        "breakfast = shuff_it(b)\n",
        "lunch =  shuff_it(l)\n",
        "dinner =  shuff_it(d)\n",
        "\n",
        "days = {0:'Monday', \n",
        "        1:'Tuesday', \n",
        "        2:'Wednesday', \n",
        "        3:'Thursday', \n",
        "        4:'Friday', \n",
        "        5:'Saturday', \n",
        "        6:'Sunday'}        \n",
        "\n",
        "df = pd.DataFrame([breakfast, lunch, dinner]).T\n",
        "df = df.rename(columns = {0:'Breakfast', 1:'Lunch', 2:'Dinner'}, index=days)\n",
        "df"
      ],
      "execution_count": null,
      "outputs": [
        {
          "output_type": "execute_result",
          "data": {
            "text/html": [
              "<div>\n",
              "<style scoped>\n",
              "    .dataframe tbody tr th:only-of-type {\n",
              "        vertical-align: middle;\n",
              "    }\n",
              "\n",
              "    .dataframe tbody tr th {\n",
              "        vertical-align: top;\n",
              "    }\n",
              "\n",
              "    .dataframe thead th {\n",
              "        text-align: right;\n",
              "    }\n",
              "</style>\n",
              "<table border=\"1\" class=\"dataframe\">\n",
              "  <thead>\n",
              "    <tr style=\"text-align: right;\">\n",
              "      <th></th>\n",
              "      <th>Breakfast</th>\n",
              "      <th>Lunch</th>\n",
              "      <th>Dinner</th>\n",
              "    </tr>\n",
              "  </thead>\n",
              "  <tbody>\n",
              "    <tr>\n",
              "      <th>Monday</th>\n",
              "      <td>Waffles</td>\n",
              "      <td>Sushi</td>\n",
              "      <td>Perfect Ny Strip From Frozen, Fogo Cheese Ball...</td>\n",
              "    </tr>\n",
              "    <tr>\n",
              "      <th>Tuesday</th>\n",
              "      <td>French Toast &amp; Bacon</td>\n",
              "      <td>Sweet Potato Burritos</td>\n",
              "      <td>Pizza</td>\n",
              "    </tr>\n",
              "    <tr>\n",
              "      <th>Wednesday</th>\n",
              "      <td>Bacon Pancake Bread</td>\n",
              "      <td>Bumps On A Log</td>\n",
              "      <td>Brown Sugar Pineapple Porkchops</td>\n",
              "    </tr>\n",
              "    <tr>\n",
              "      <th>Thursday</th>\n",
              "      <td>Chia Pudding &amp; Berries</td>\n",
              "      <td>Cobb Salad W/ Boiled Egg &amp; Avacado</td>\n",
              "      <td>Hamburgers</td>\n",
              "    </tr>\n",
              "    <tr>\n",
              "      <th>Friday</th>\n",
              "      <td>Hash Browns, Bacon &amp; Eggs</td>\n",
              "      <td>Protein Balls</td>\n",
              "      <td>Taco Soup</td>\n",
              "    </tr>\n",
              "    <tr>\n",
              "      <th>Saturday</th>\n",
              "      <td>Healthy Peanut Butter Banana Muffins</td>\n",
              "      <td>Sandwitch</td>\n",
              "      <td>Stuffed... (Pepper/Eggplant/Squash/Ect.)</td>\n",
              "    </tr>\n",
              "    <tr>\n",
              "      <th>Sunday</th>\n",
              "      <td>Pancakes</td>\n",
              "      <td>Nachos</td>\n",
              "      <td>Easy Butter-Poached Lobster</td>\n",
              "    </tr>\n",
              "  </tbody>\n",
              "</table>\n",
              "</div>"
            ],
            "text/plain": [
              "                                      Breakfast  ...                                             Dinner\n",
              "Monday                                 Waffles   ...  Perfect Ny Strip From Frozen, Fogo Cheese Ball...\n",
              "Tuesday                    French Toast & Bacon  ...                                              Pizza\n",
              "Wednesday                   Bacon Pancake Bread  ...                    Brown Sugar Pineapple Porkchops\n",
              "Thursday                 Chia Pudding & Berries  ...                                         Hamburgers\n",
              "Friday                Hash Browns, Bacon & Eggs  ...                                          Taco Soup\n",
              "Saturday   Healthy Peanut Butter Banana Muffins  ...           Stuffed... (Pepper/Eggplant/Squash/Ect.)\n",
              "Sunday                                 Pancakes  ...                        Easy Butter-Poached Lobster\n",
              "\n",
              "[7 rows x 3 columns]"
            ]
          },
          "metadata": {
            "tags": []
          },
          "execution_count": 2
        }
      ]
    },
    {
      "cell_type": "code",
      "metadata": {
        "id": "mVPeQfT24o3S",
        "colab": {
          "base_uri": "https://localhost:8080/",
          "height": 258
        },
        "outputId": "22083c6c-41bf-45a0-c237-c28440fa4b63"
      },
      "source": [
        "week=df\n",
        "xy = df\n",
        "# xy.iloc[DAY_of_WEEK][MEAL]\n",
        "# xy.iloc[0][0] # Monday Breakkfast\n",
        "\n",
        "# xy.iloc[0][0] = 'Smoothie' # Monday Breakfast\n",
        "# xy.iloc[0][0] = '' # Monday Lunch\n",
        "# xy.iloc[0][0] = '' # Monday Dinner\n",
        "\n",
        "\n",
        "\n",
        "\n",
        "xy"
      ],
      "execution_count": null,
      "outputs": [
        {
          "output_type": "execute_result",
          "data": {
            "text/html": [
              "<div>\n",
              "<style scoped>\n",
              "    .dataframe tbody tr th:only-of-type {\n",
              "        vertical-align: middle;\n",
              "    }\n",
              "\n",
              "    .dataframe tbody tr th {\n",
              "        vertical-align: top;\n",
              "    }\n",
              "\n",
              "    .dataframe thead th {\n",
              "        text-align: right;\n",
              "    }\n",
              "</style>\n",
              "<table border=\"1\" class=\"dataframe\">\n",
              "  <thead>\n",
              "    <tr style=\"text-align: right;\">\n",
              "      <th></th>\n",
              "      <th>Breakfast</th>\n",
              "      <th>Lunch</th>\n",
              "      <th>Dinner</th>\n",
              "    </tr>\n",
              "  </thead>\n",
              "  <tbody>\n",
              "    <tr>\n",
              "      <th>Monday</th>\n",
              "      <td>Waffles</td>\n",
              "      <td>Sushi</td>\n",
              "      <td>Perfect Ny Strip From Frozen, Fogo Cheese Ball...</td>\n",
              "    </tr>\n",
              "    <tr>\n",
              "      <th>Tuesday</th>\n",
              "      <td>French Toast &amp; Bacon</td>\n",
              "      <td>Sweet Potato Burritos</td>\n",
              "      <td>Pizza</td>\n",
              "    </tr>\n",
              "    <tr>\n",
              "      <th>Wednesday</th>\n",
              "      <td>Bacon Pancake Bread</td>\n",
              "      <td>Bumps On A Log</td>\n",
              "      <td>Brown Sugar Pineapple Porkchops</td>\n",
              "    </tr>\n",
              "    <tr>\n",
              "      <th>Thursday</th>\n",
              "      <td>Chia Pudding &amp; Berries</td>\n",
              "      <td>Cobb Salad W/ Boiled Egg &amp; Avacado</td>\n",
              "      <td>Hamburgers</td>\n",
              "    </tr>\n",
              "    <tr>\n",
              "      <th>Friday</th>\n",
              "      <td>Hash Browns, Bacon &amp; Eggs</td>\n",
              "      <td>Protein Balls</td>\n",
              "      <td>Taco Soup</td>\n",
              "    </tr>\n",
              "    <tr>\n",
              "      <th>Saturday</th>\n",
              "      <td>Healthy Peanut Butter Banana Muffins</td>\n",
              "      <td>Sandwitch</td>\n",
              "      <td>Stuffed... (Pepper/Eggplant/Squash/Ect.)</td>\n",
              "    </tr>\n",
              "    <tr>\n",
              "      <th>Sunday</th>\n",
              "      <td>Pancakes</td>\n",
              "      <td>Nachos</td>\n",
              "      <td>Easy Butter-Poached Lobster</td>\n",
              "    </tr>\n",
              "  </tbody>\n",
              "</table>\n",
              "</div>"
            ],
            "text/plain": [
              "                                      Breakfast  ...                                             Dinner\n",
              "Monday                                 Waffles   ...  Perfect Ny Strip From Frozen, Fogo Cheese Ball...\n",
              "Tuesday                    French Toast & Bacon  ...                                              Pizza\n",
              "Wednesday                   Bacon Pancake Bread  ...                    Brown Sugar Pineapple Porkchops\n",
              "Thursday                 Chia Pudding & Berries  ...                                         Hamburgers\n",
              "Friday                Hash Browns, Bacon & Eggs  ...                                          Taco Soup\n",
              "Saturday   Healthy Peanut Butter Banana Muffins  ...           Stuffed... (Pepper/Eggplant/Squash/Ect.)\n",
              "Sunday                                 Pancakes  ...                        Easy Butter-Poached Lobster\n",
              "\n",
              "[7 rows x 3 columns]"
            ]
          },
          "metadata": {
            "tags": []
          },
          "execution_count": 3
        }
      ]
    },
    {
      "cell_type": "code",
      "metadata": {
        "id": "hoiiS0fc5-mi",
        "colab": {
          "base_uri": "https://localhost:8080/",
          "height": 35
        },
        "outputId": "02de7f0f-4d61-4a77-ef9a-bc1069d8fc35"
      },
      "source": [
        "xy.iloc[0][1]"
      ],
      "execution_count": null,
      "outputs": [
        {
          "output_type": "execute_result",
          "data": {
            "application/vnd.google.colaboratory.intrinsic+json": {
              "type": "string"
            },
            "text/plain": [
              "'Sushi'"
            ]
          },
          "metadata": {
            "tags": []
          },
          "execution_count": 4
        }
      ]
    },
    {
      "cell_type": "code",
      "metadata": {
        "id": "nYlFFxvFAD0K",
        "colab": {
          "base_uri": "https://localhost:8080/",
          "height": 258
        },
        "outputId": "a4b652f3-1e86-44ca-9153-5e243f682f16"
      },
      "source": [
        "week"
      ],
      "execution_count": null,
      "outputs": [
        {
          "output_type": "execute_result",
          "data": {
            "text/html": [
              "<div>\n",
              "<style scoped>\n",
              "    .dataframe tbody tr th:only-of-type {\n",
              "        vertical-align: middle;\n",
              "    }\n",
              "\n",
              "    .dataframe tbody tr th {\n",
              "        vertical-align: top;\n",
              "    }\n",
              "\n",
              "    .dataframe thead th {\n",
              "        text-align: right;\n",
              "    }\n",
              "</style>\n",
              "<table border=\"1\" class=\"dataframe\">\n",
              "  <thead>\n",
              "    <tr style=\"text-align: right;\">\n",
              "      <th></th>\n",
              "      <th>Breakfast</th>\n",
              "      <th>Lunch</th>\n",
              "      <th>Dinner</th>\n",
              "    </tr>\n",
              "  </thead>\n",
              "  <tbody>\n",
              "    <tr>\n",
              "      <th>Monday</th>\n",
              "      <td>Waffles</td>\n",
              "      <td>Sushi</td>\n",
              "      <td>Perfect Ny Strip From Frozen, Fogo Cheese Ball...</td>\n",
              "    </tr>\n",
              "    <tr>\n",
              "      <th>Tuesday</th>\n",
              "      <td>French Toast &amp; Bacon</td>\n",
              "      <td>Sweet Potato Burritos</td>\n",
              "      <td>Pizza</td>\n",
              "    </tr>\n",
              "    <tr>\n",
              "      <th>Wednesday</th>\n",
              "      <td>Bacon Pancake Bread</td>\n",
              "      <td>Bumps On A Log</td>\n",
              "      <td>Brown Sugar Pineapple Porkchops</td>\n",
              "    </tr>\n",
              "    <tr>\n",
              "      <th>Thursday</th>\n",
              "      <td>Chia Pudding &amp; Berries</td>\n",
              "      <td>Cobb Salad W/ Boiled Egg &amp; Avacado</td>\n",
              "      <td>Hamburgers</td>\n",
              "    </tr>\n",
              "    <tr>\n",
              "      <th>Friday</th>\n",
              "      <td>Hash Browns, Bacon &amp; Eggs</td>\n",
              "      <td>Protein Balls</td>\n",
              "      <td>Taco Soup</td>\n",
              "    </tr>\n",
              "    <tr>\n",
              "      <th>Saturday</th>\n",
              "      <td>Healthy Peanut Butter Banana Muffins</td>\n",
              "      <td>Sandwitch</td>\n",
              "      <td>Stuffed... (Pepper/Eggplant/Squash/Ect.)</td>\n",
              "    </tr>\n",
              "    <tr>\n",
              "      <th>Sunday</th>\n",
              "      <td>Pancakes</td>\n",
              "      <td>Nachos</td>\n",
              "      <td>Easy Butter-Poached Lobster</td>\n",
              "    </tr>\n",
              "  </tbody>\n",
              "</table>\n",
              "</div>"
            ],
            "text/plain": [
              "                                      Breakfast  ...                                             Dinner\n",
              "Monday                                 Waffles   ...  Perfect Ny Strip From Frozen, Fogo Cheese Ball...\n",
              "Tuesday                    French Toast & Bacon  ...                                              Pizza\n",
              "Wednesday                   Bacon Pancake Bread  ...                    Brown Sugar Pineapple Porkchops\n",
              "Thursday                 Chia Pudding & Berries  ...                                         Hamburgers\n",
              "Friday                Hash Browns, Bacon & Eggs  ...                                          Taco Soup\n",
              "Saturday   Healthy Peanut Butter Banana Muffins  ...           Stuffed... (Pepper/Eggplant/Squash/Ect.)\n",
              "Sunday                                 Pancakes  ...                        Easy Butter-Poached Lobster\n",
              "\n",
              "[7 rows x 3 columns]"
            ]
          },
          "metadata": {
            "tags": []
          },
          "execution_count": 5
        }
      ]
    },
    {
      "cell_type": "code",
      "metadata": {
        "id": "CuaRTVFFpcAV",
        "colab": {
          "base_uri": "https://localhost:8080/",
          "height": 258
        },
        "outputId": "dd5df3ae-20f5-4f87-b38a-aa5166abba45"
      },
      "source": [
        "week"
      ],
      "execution_count": null,
      "outputs": [
        {
          "output_type": "execute_result",
          "data": {
            "text/html": [
              "<div>\n",
              "<style scoped>\n",
              "    .dataframe tbody tr th:only-of-type {\n",
              "        vertical-align: middle;\n",
              "    }\n",
              "\n",
              "    .dataframe tbody tr th {\n",
              "        vertical-align: top;\n",
              "    }\n",
              "\n",
              "    .dataframe thead th {\n",
              "        text-align: right;\n",
              "    }\n",
              "</style>\n",
              "<table border=\"1\" class=\"dataframe\">\n",
              "  <thead>\n",
              "    <tr style=\"text-align: right;\">\n",
              "      <th></th>\n",
              "      <th>Breakfast</th>\n",
              "      <th>Lunch</th>\n",
              "      <th>Dinner</th>\n",
              "    </tr>\n",
              "  </thead>\n",
              "  <tbody>\n",
              "    <tr>\n",
              "      <th>Monday</th>\n",
              "      <td>Waffles</td>\n",
              "      <td>Sushi</td>\n",
              "      <td>Perfect Ny Strip From Frozen, Fogo Cheese Ball...</td>\n",
              "    </tr>\n",
              "    <tr>\n",
              "      <th>Tuesday</th>\n",
              "      <td>French Toast &amp; Bacon</td>\n",
              "      <td>Sweet Potato Burritos</td>\n",
              "      <td>Pizza</td>\n",
              "    </tr>\n",
              "    <tr>\n",
              "      <th>Wednesday</th>\n",
              "      <td>Bacon Pancake Bread</td>\n",
              "      <td>Bumps On A Log</td>\n",
              "      <td>Brown Sugar Pineapple Porkchops</td>\n",
              "    </tr>\n",
              "    <tr>\n",
              "      <th>Thursday</th>\n",
              "      <td>Chia Pudding &amp; Berries</td>\n",
              "      <td>Cobb Salad W/ Boiled Egg &amp; Avacado</td>\n",
              "      <td>Hamburgers</td>\n",
              "    </tr>\n",
              "    <tr>\n",
              "      <th>Friday</th>\n",
              "      <td>Hash Browns, Bacon &amp; Eggs</td>\n",
              "      <td>Protein Balls</td>\n",
              "      <td>Taco Soup</td>\n",
              "    </tr>\n",
              "    <tr>\n",
              "      <th>Saturday</th>\n",
              "      <td>Healthy Peanut Butter Banana Muffins</td>\n",
              "      <td>Sandwitch</td>\n",
              "      <td>Stuffed... (Pepper/Eggplant/Squash/Ect.)</td>\n",
              "    </tr>\n",
              "    <tr>\n",
              "      <th>Sunday</th>\n",
              "      <td>Pancakes</td>\n",
              "      <td>Nachos</td>\n",
              "      <td>Easy Butter-Poached Lobster</td>\n",
              "    </tr>\n",
              "  </tbody>\n",
              "</table>\n",
              "</div>"
            ],
            "text/plain": [
              "                                      Breakfast  ...                                             Dinner\n",
              "Monday                                 Waffles   ...  Perfect Ny Strip From Frozen, Fogo Cheese Ball...\n",
              "Tuesday                    French Toast & Bacon  ...                                              Pizza\n",
              "Wednesday                   Bacon Pancake Bread  ...                    Brown Sugar Pineapple Porkchops\n",
              "Thursday                 Chia Pudding & Berries  ...                                         Hamburgers\n",
              "Friday                Hash Browns, Bacon & Eggs  ...                                          Taco Soup\n",
              "Saturday   Healthy Peanut Butter Banana Muffins  ...           Stuffed... (Pepper/Eggplant/Squash/Ect.)\n",
              "Sunday                                 Pancakes  ...                        Easy Butter-Poached Lobster\n",
              "\n",
              "[7 rows x 3 columns]"
            ]
          },
          "metadata": {
            "tags": []
          },
          "execution_count": 6
        }
      ]
    },
    {
      "cell_type": "code",
      "metadata": {
        "id": "o31Ji4ffu1Pf"
      },
      "source": [
        ""
      ],
      "execution_count": null,
      "outputs": []
    },
    {
      "cell_type": "code",
      "metadata": {
        "id": "QLx6O61su1Ll"
      },
      "source": [
        ""
      ],
      "execution_count": null,
      "outputs": []
    },
    {
      "cell_type": "code",
      "metadata": {
        "id": "tjaUijGxu1Hf"
      },
      "source": [
        ""
      ],
      "execution_count": null,
      "outputs": []
    },
    {
      "cell_type": "code",
      "metadata": {
        "id": "lP5TZR8Wu1Df"
      },
      "source": [
        ""
      ],
      "execution_count": null,
      "outputs": []
    },
    {
      "cell_type": "code",
      "metadata": {
        "id": "ektRwHfnu076"
      },
      "source": [
        ""
      ],
      "execution_count": null,
      "outputs": []
    },
    {
      "cell_type": "code",
      "metadata": {
        "id": "oWQNYm3Pu04D"
      },
      "source": [
        ""
      ],
      "execution_count": null,
      "outputs": []
    },
    {
      "cell_type": "code",
      "metadata": {
        "id": "jklT3dlmu0z3"
      },
      "source": [
        ""
      ],
      "execution_count": null,
      "outputs": []
    },
    {
      "cell_type": "code",
      "metadata": {
        "id": "WObC9IzLu0wG"
      },
      "source": [
        ""
      ],
      "execution_count": null,
      "outputs": []
    },
    {
      "cell_type": "code",
      "metadata": {
        "id": "ygImMs3Su0sn"
      },
      "source": [
        ""
      ],
      "execution_count": null,
      "outputs": []
    },
    {
      "cell_type": "code",
      "metadata": {
        "id": "OqXgN3mIu0oc"
      },
      "source": [
        ""
      ],
      "execution_count": null,
      "outputs": []
    },
    {
      "cell_type": "code",
      "metadata": {
        "id": "r4zlZiL5u0ke"
      },
      "source": [
        ""
      ],
      "execution_count": null,
      "outputs": []
    },
    {
      "cell_type": "code",
      "metadata": {
        "id": "Ngye4m7lu0gt"
      },
      "source": [
        ""
      ],
      "execution_count": null,
      "outputs": []
    },
    {
      "cell_type": "code",
      "metadata": {
        "id": "fnmlsxR2u0dF"
      },
      "source": [
        ""
      ],
      "execution_count": null,
      "outputs": []
    },
    {
      "cell_type": "code",
      "metadata": {
        "id": "GLJwChUEu0Z3"
      },
      "source": [
        ""
      ],
      "execution_count": null,
      "outputs": []
    },
    {
      "cell_type": "code",
      "metadata": {
        "id": "4gp7gUgTu0VX"
      },
      "source": [
        ""
      ],
      "execution_count": null,
      "outputs": []
    },
    {
      "cell_type": "code",
      "metadata": {
        "id": "aTiltvuuu0GP"
      },
      "source": [
        ""
      ],
      "execution_count": null,
      "outputs": []
    },
    {
      "cell_type": "code",
      "metadata": {
        "id": "h0xhrfQ_u4TW"
      },
      "source": [
        ""
      ],
      "execution_count": null,
      "outputs": []
    },
    {
      "cell_type": "code",
      "metadata": {
        "id": "zShz8UM_u4O5"
      },
      "source": [
        ""
      ],
      "execution_count": null,
      "outputs": []
    },
    {
      "cell_type": "code",
      "metadata": {
        "id": "d5uCIIrBu4Kw"
      },
      "source": [
        ""
      ],
      "execution_count": null,
      "outputs": []
    },
    {
      "cell_type": "code",
      "metadata": {
        "id": "m7bPteyzu4Gp"
      },
      "source": [
        ""
      ],
      "execution_count": null,
      "outputs": []
    },
    {
      "cell_type": "code",
      "metadata": {
        "id": "LblmtkInu4CT"
      },
      "source": [
        ""
      ],
      "execution_count": null,
      "outputs": []
    },
    {
      "cell_type": "code",
      "metadata": {
        "id": "4cRMnxvUu3-P"
      },
      "source": [
        ""
      ],
      "execution_count": null,
      "outputs": []
    },
    {
      "cell_type": "code",
      "metadata": {
        "id": "rhFZ-7IOu36P"
      },
      "source": [
        ""
      ],
      "execution_count": null,
      "outputs": []
    },
    {
      "cell_type": "code",
      "metadata": {
        "id": "HhCcVixeu32e"
      },
      "source": [
        ""
      ],
      "execution_count": null,
      "outputs": []
    },
    {
      "cell_type": "code",
      "metadata": {
        "id": "iQ0IEiOHu3yj"
      },
      "source": [
        ""
      ],
      "execution_count": null,
      "outputs": []
    },
    {
      "cell_type": "code",
      "metadata": {
        "id": "VazIaH5hu3uV"
      },
      "source": [
        ""
      ],
      "execution_count": null,
      "outputs": []
    },
    {
      "cell_type": "code",
      "metadata": {
        "id": "ahhnfnzTu3qR"
      },
      "source": [
        ""
      ],
      "execution_count": null,
      "outputs": []
    },
    {
      "cell_type": "code",
      "metadata": {
        "id": "ENZ8CQ4ru3mi"
      },
      "source": [
        ""
      ],
      "execution_count": null,
      "outputs": []
    },
    {
      "cell_type": "code",
      "metadata": {
        "id": "6OaBX3fcu3ir"
      },
      "source": [
        ""
      ],
      "execution_count": null,
      "outputs": []
    },
    {
      "cell_type": "code",
      "metadata": {
        "id": "GeRXfzQTu3e5"
      },
      "source": [
        ""
      ],
      "execution_count": null,
      "outputs": []
    },
    {
      "cell_type": "code",
      "metadata": {
        "id": "xa-44MRku3an"
      },
      "source": [
        ""
      ],
      "execution_count": null,
      "outputs": []
    },
    {
      "cell_type": "code",
      "metadata": {
        "id": "T1KMHH_2u3W7"
      },
      "source": [
        ""
      ],
      "execution_count": null,
      "outputs": []
    },
    {
      "cell_type": "code",
      "metadata": {
        "id": "O_lnEgYHu3Ss"
      },
      "source": [
        ""
      ],
      "execution_count": null,
      "outputs": []
    },
    {
      "cell_type": "code",
      "metadata": {
        "id": "LvrED1a0EvgR"
      },
      "source": [
        "# from google.colab import files\n",
        "# uploaded = files.upload()\n",
        "\n",
        "\n",
        "# webster = uploaded\n",
        "# # for i in webster:\n",
        "# #     print(webster)\n",
        "# #     print()\n",
        "\n",
        "# xyz = webster['butcherbox_meat.html']\n",
        "# txt = (xyz.decode(\"utf-8\"))\n",
        "\n",
        "# import re\n",
        "\n",
        "# def cleanhtml(raw_html):\n",
        "#   t = re.sub('<[^>]+>', '', raw_html)\n",
        "#   return t\n",
        "\n",
        "\n",
        "# df = cleanhtml(txt)\n",
        "# df = df.split(\"\\n\")\n",
        "\n",
        "\n",
        "# lst = []\n",
        "\n",
        "# for i in df:\n",
        "#     if i != \"\":\n",
        "#         i.replace(\"  \", \" \")\n",
        "#         lst.append(i)\n",
        "#         # print(i)\n",
        "\n",
        "# lst = [x.strip(' ') for x in df]\n",
        "\n",
        "\n",
        "# my_lst = []\n",
        "\n",
        "# for i in lst:\n",
        "#     if i != '':\n",
        "#         if i != 'Remove deal':\n",
        "#             my_lst.append(i)\n",
        "\n",
        "# my_lst[0:10]"
      ],
      "execution_count": null,
      "outputs": []
    },
    {
      "cell_type": "code",
      "metadata": {
        "id": "A9HlygEiVTdW"
      },
      "source": [
        "# my_lst"
      ],
      "execution_count": null,
      "outputs": []
    },
    {
      "cell_type": "code",
      "metadata": {
        "id": "-bBH9grDDv-4"
      },
      "source": [
        ""
      ],
      "execution_count": null,
      "outputs": []
    }
  ]
}